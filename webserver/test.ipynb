{
 "cells": [
  {
   "cell_type": "code",
   "execution_count": null,
   "metadata": {},
   "outputs": [],
   "source": [
    "# Start milvus container\n",
    "! echo \"011009\" | sudo -S docker-compose -f ~/milvus_docker/docker-compose.yml start\n",
    "! echo \"011009\" | sudo -S service mysql start"
   ]
  },
  {
   "attachments": {},
   "cell_type": "markdown",
   "metadata": {},
   "source": [
    "### Check milvus"
   ]
  },
  {
   "cell_type": "code",
   "execution_count": 12,
   "metadata": {},
   "outputs": [
    {
     "name": "stdout",
     "output_type": "stream",
     "text": [
      "Collection data count: 1000\n"
     ]
    }
   ],
   "source": [
    "from pymilvus import connections, Collection\n",
    "\n",
    "# First connect to server\n",
    "connections.connect(host='127.0.0.1', port='19530')\n",
    "\n",
    "# Then load the collection\n",
    "collection = Collection('text_image_search')\n",
    "collection.load()\n",
    "print('Collection data count: {}'.format(collection.num_entities))\n",
    "collection.release()"
   ]
  },
  {
   "attachments": {},
   "cell_type": "markdown",
   "metadata": {},
   "source": [
    "### Check mysql data nums"
   ]
  },
  {
   "cell_type": "code",
   "execution_count": 13,
   "metadata": {},
   "outputs": [
    {
     "name": "stdout",
     "output_type": "stream",
     "text": [
      "{'image_nums': 1000}\n"
     ]
    }
   ],
   "source": [
    "import mysql_operate\n",
    "\n",
    "result = mysql_operate.db.select_db('SELECT COUNT(*) AS `image_nums` FROM `image_info`;')\n",
    "print(result[0])"
   ]
  }
 ],
 "metadata": {
  "kernelspec": {
   "display_name": "TIS",
   "language": "python",
   "name": "python3"
  },
  "language_info": {
   "codemirror_mode": {
    "name": "ipython",
    "version": 3
   },
   "file_extension": ".py",
   "mimetype": "text/x-python",
   "name": "python",
   "nbconvert_exporter": "python",
   "pygments_lexer": "ipython3",
   "version": "3.9.16"
  },
  "orig_nbformat": 4
 },
 "nbformat": 4,
 "nbformat_minor": 2
}
