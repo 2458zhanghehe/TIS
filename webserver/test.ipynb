{
 "cells": [
  {
   "cell_type": "code",
   "execution_count": 1,
   "metadata": {},
   "outputs": [
    {
     "name": "stdout",
     "output_type": "stream",
     "text": [
      "[sudo] password for liu: \u001b[1A\u001b[1B\u001b[0G\u001b[?25l[+] Running 0/0\n",
      " ⠋ Container milvus-etcd   \u001b[39mStarting\u001b[0m                                        \u001b[34m0.1s \u001b[0m\n",
      " ⠋ Container milvus-minio  \u001b[39mStarting\u001b[0m                                        \u001b[34m0.1s \u001b[0m\n",
      "\u001b[?25h\u001b[1A\u001b[1A\u001b[1A\u001b[0G\u001b[?25l[+] Running 0/2\n",
      " ⠙ Container milvus-etcd   \u001b[39mStarting\u001b[0m                                        \u001b[34m0.2s \u001b[0m\n",
      " ⠙ Container milvus-minio  \u001b[39mStarting\u001b[0m                                        \u001b[34m0.2s \u001b[0m\n",
      "\u001b[?25h\u001b[1A\u001b[1A\u001b[1A\u001b[0G\u001b[?25l[+] Running 0/2\n",
      " ⠹ Container milvus-etcd   \u001b[39mStarting\u001b[0m                                        \u001b[34m0.3s \u001b[0m\n",
      " ⠹ Container milvus-minio  \u001b[39mStarting\u001b[0m                                        \u001b[34m0.3s \u001b[0m\n",
      "\u001b[?25h\u001b[1A\u001b[1A\u001b[1A\u001b[0G\u001b[?25l[+] Running 0/2\n",
      " ⠸ Container milvus-etcd   \u001b[39mStarting\u001b[0m                                        \u001b[34m0.4s \u001b[0m\n",
      " ⠸ Container milvus-minio  \u001b[39mStarting\u001b[0m                                        \u001b[34m0.4s \u001b[0m\n",
      "\u001b[?25h\u001b[1A\u001b[1A\u001b[1A\u001b[0G\u001b[?25l[+] Running 0/2\n",
      " ⠼ Container milvus-etcd   \u001b[39mStarting\u001b[0m                                        \u001b[34m0.5s \u001b[0m\n",
      " ⠼ Container milvus-minio  \u001b[39mStarting\u001b[0m                                        \u001b[34m0.5s \u001b[0m\n",
      "\u001b[?25h\u001b[1A\u001b[1A\u001b[1A\u001b[0G\u001b[?25l[+] Running 1/2\n",
      " ⠴ Container milvus-etcd   \u001b[39mStarting\u001b[0m                                        \u001b[34m0.6s \u001b[0m\n",
      " \u001b[32m✔\u001b[0m Container milvus-minio  \u001b[32mStarted\u001b[0m                                         \u001b[34m0.6s \u001b[0m\n",
      "\u001b[?25h\u001b[1A\u001b[1A\u001b[1A\u001b[0G\u001b[?25l[+] Running 1/2\n",
      " ⠦ Container milvus-etcd   \u001b[39mStarting\u001b[0m                                        \u001b[34m0.7s \u001b[0m\n",
      " \u001b[32m✔\u001b[0m Container milvus-minio  \u001b[32mStarted\u001b[0m                                         \u001b[34m0.6s \u001b[0m\n",
      "\u001b[?25h\u001b[1A\u001b[1A\u001b[1A\u001b[0G\u001b[?25l\u001b[34m[+] Running 2/2\u001b[0m\n",
      " \u001b[32m✔\u001b[0m Container milvus-etcd        \u001b[32mStarted\u001b[0m                                    \u001b[34m0.7s \u001b[0m\n",
      " \u001b[32m✔\u001b[0m Container milvus-minio       \u001b[32mStarted\u001b[0m                                    \u001b[34m0.6s \u001b[0m\n",
      " ⠋ Container milvus-standalone  \u001b[39mStarting\u001b[0m                                   \u001b[34m0.1s \u001b[0m\n",
      "\u001b[?25h\u001b[1A\u001b[1A\u001b[1A\u001b[1A\u001b[0G\u001b[?25l[+] Running 2/3\n",
      " \u001b[32m✔\u001b[0m Container milvus-etcd        \u001b[32mStarted\u001b[0m                                    \u001b[34m0.7s \u001b[0m\n",
      " \u001b[32m✔\u001b[0m Container milvus-minio       \u001b[32mStarted\u001b[0m                                    \u001b[34m0.6s \u001b[0m\n",
      " ⠙ Container milvus-standalone  \u001b[39mStarting\u001b[0m                                   \u001b[34m0.2s \u001b[0m\n",
      "\u001b[?25h\u001b[1A\u001b[1A\u001b[1A\u001b[1A\u001b[0G\u001b[?25l[+] Running 2/3\n",
      " \u001b[32m✔\u001b[0m Container milvus-etcd        \u001b[32mStarted\u001b[0m                                    \u001b[34m0.7s \u001b[0m\n",
      " \u001b[32m✔\u001b[0m Container milvus-minio       \u001b[32mStarted\u001b[0m                                    \u001b[34m0.6s \u001b[0m\n",
      " ⠹ Container milvus-standalone  \u001b[39mStarting\u001b[0m                                   \u001b[34m0.3s \u001b[0m\n",
      "\u001b[?25h\u001b[1A\u001b[1A\u001b[1A\u001b[1A\u001b[0G\u001b[?25l[+] Running 2/3\n",
      " \u001b[32m✔\u001b[0m Container milvus-etcd        \u001b[32mStarted\u001b[0m                                    \u001b[34m0.7s \u001b[0m\n",
      " \u001b[32m✔\u001b[0m Container milvus-minio       \u001b[32mStarted\u001b[0m                                    \u001b[34m0.6s \u001b[0m\n",
      " ⠸ Container milvus-standalone  \u001b[39mStarting\u001b[0m                                   \u001b[34m0.4s \u001b[0m\n",
      "\u001b[?25h\u001b[1A\u001b[1A\u001b[1A\u001b[1A\u001b[0G\u001b[?25l[+] Running 2/3\n",
      " \u001b[32m✔\u001b[0m Container milvus-etcd        \u001b[32mStarted\u001b[0m                                    \u001b[34m0.7s \u001b[0m\n",
      " \u001b[32m✔\u001b[0m Container milvus-minio       \u001b[32mStarted\u001b[0m                                    \u001b[34m0.6s \u001b[0m\n",
      " ⠼ Container milvus-standalone  \u001b[39mStarting\u001b[0m                                   \u001b[34m0.5s \u001b[0m\n",
      "\u001b[?25h\u001b[1A\u001b[1A\u001b[1A\u001b[1A\u001b[0G\u001b[?25l[+] Running 2/3\n",
      " \u001b[32m✔\u001b[0m Container milvus-etcd        \u001b[32mStarted\u001b[0m                                    \u001b[34m0.7s \u001b[0m\n",
      " \u001b[32m✔\u001b[0m Container milvus-minio       \u001b[32mStarted\u001b[0m                                    \u001b[34m0.6s \u001b[0m\n",
      " ⠴ Container milvus-standalone  \u001b[39mStarting\u001b[0m                                   \u001b[34m0.6s \u001b[0m\n",
      "\u001b[?25h\u001b[1A\u001b[1A\u001b[1A\u001b[1A\u001b[0G\u001b[?25l[+] Running 2/3\n",
      " \u001b[32m✔\u001b[0m Container milvus-etcd        \u001b[32mStarted\u001b[0m                                    \u001b[34m0.7s \u001b[0m\n",
      " \u001b[32m✔\u001b[0m Container milvus-minio       \u001b[32mStarted\u001b[0m                                    \u001b[34m0.6s \u001b[0m\n",
      " ⠦ Container milvus-standalone  \u001b[39mStarting\u001b[0m                                   \u001b[34m0.7s \u001b[0m\n",
      "\u001b[?25h\u001b[1A\u001b[1A\u001b[1A\u001b[1A\u001b[0G\u001b[?25l\u001b[34m[+] Running 3/3\u001b[0m\n",
      " \u001b[32m✔\u001b[0m Container milvus-etcd        \u001b[32mStarted\u001b[0m                                    \u001b[34m0.7s \u001b[0m\n",
      " \u001b[32m✔\u001b[0m Container milvus-minio       \u001b[32mStarted\u001b[0m                                    \u001b[34m0.6s \u001b[0m\n",
      " \u001b[32m✔\u001b[0m Container milvus-standalone  \u001b[32mStarted\u001b[0m                                    \u001b[34m0.7s \u001b[0m\n",
      "\u001b[?25h[sudo] password for liu:  * Starting MySQL database server mysqld\n",
      "No directory, logging in with HOME=/\n",
      "   ...done.\n"
     ]
    }
   ],
   "source": [
    "# Start milvus container\n",
    "! echo \"011009\" | sudo -S docker-compose -f ~/milvus_docker/docker-compose.yml start\n",
    "! echo \"011009\" | sudo -S service mysql start"
   ]
  },
  {
   "attachments": {},
   "cell_type": "markdown",
   "metadata": {},
   "source": [
    "### Check milvus"
   ]
  },
  {
   "cell_type": "code",
   "execution_count": 2,
   "metadata": {},
   "outputs": [
    {
     "name": "stdout",
     "output_type": "stream",
     "text": [
      "Collection data count: 5500\n"
     ]
    }
   ],
   "source": [
    "from pymilvus import connections, Collection\n",
    "# First connect to server\n",
    "connections.connect(host='127.0.0.1', port='19530')\n",
    "# Then load the collection\n",
    "collection = Collection('text_image_search')\n",
    "collection.load()\n",
    "print('Collection data count: {}'.format(collection.num_entities))\n",
    "collection.release()"
   ]
  },
  {
   "attachments": {},
   "cell_type": "markdown",
   "metadata": {},
   "source": [
    "### Check mysql data nums"
   ]
  },
  {
   "cell_type": "code",
   "execution_count": 3,
   "metadata": {},
   "outputs": [
    {
     "name": "stdout",
     "output_type": "stream",
     "text": [
      "{'image_nums': 5500}\n"
     ]
    }
   ],
   "source": [
    "import mysql_operate\n",
    "\n",
    "result = mysql_operate.db.select_db('SELECT COUNT(*) AS `image_nums` FROM `image_info`;')\n",
    "print(result[0])"
   ]
  }
 ],
 "metadata": {
  "kernelspec": {
   "display_name": "TIS",
   "language": "python",
   "name": "python3"
  },
  "language_info": {
   "codemirror_mode": {
    "name": "ipython",
    "version": 3
   },
   "file_extension": ".py",
   "mimetype": "text/x-python",
   "name": "python",
   "nbconvert_exporter": "python",
   "pygments_lexer": "ipython3",
   "version": "3.9.16"
  },
  "orig_nbformat": 4
 },
 "nbformat": 4,
 "nbformat_minor": 2
}
